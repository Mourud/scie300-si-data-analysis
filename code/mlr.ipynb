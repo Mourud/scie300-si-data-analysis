{
 "cells": [
  {
   "cell_type": "code",
   "execution_count": null,
   "metadata": {},
   "outputs": [],
   "source": []
  },
  {
   "cell_type": "code",
   "execution_count": 1,
   "metadata": {},
   "outputs": [
    {
     "data": {
      "text/plain": [
       "[9.6329425029438,\n",
       " array([ 0.52702121, -0.0750707 ,  0.23932424, -0.01240679, -0.04034957,\n",
       "         0.16963988,  0.08789798, -0.02687456,  0.01480986, -0.18674908,\n",
       "         0.16069588,  0.01497125, -0.00766581]),\n",
       " 0.48941165584340585,\n",
       " 0.09896174560601034]"
      ]
     },
     "execution_count": 1,
     "metadata": {},
     "output_type": "execute_result"
    }
   ],
   "source": [
    "import csv\n",
    "import pandas as pd\n",
    "from sklearn.linear_model import LinearRegression\n",
    "from sklearn.metrics import r2_score\n",
    "import matplotlib.pyplot as plt\n",
    "\n",
    "\n",
    "\n",
    "file_name= \"full-data.csv\"\n",
    "\n",
    "\n",
    "lr = LinearRegression()\n",
    "ite = 0\n",
    "# def plotgraph(X,y, name, pred):\n",
    "#     name = name.capitalize()\n",
    "#     title = \"Fig 1.3 Linear Regression for \" + name + \" vs Sleep\"\n",
    "#     set_matplotlib_formats('svg')\n",
    "#     # if name == \"year standing\":\n",
    "#     #     plt.plot(X, y, 'o')\n",
    "#     #     plt.plot(X, pred)\n",
    "#     #     plt.xlabel('Year Standing')\n",
    "#     # else:\n",
    "#     plt.figure()\n",
    "#     plt.scatter(X,y, color='#495867',  label = \"Actual\")\n",
    "#     plt.plot(X, pred, color='#FE5F55', label = \"Best fit\")\n",
    "#     plt.xlabel(name)\n",
    "#     plt.style.use('seaborn')\n",
    "#     plt.grid(False)\n",
    "#     plt.title(title)\n",
    "#     plt.ylabel('Sleep')\n",
    "#     plt.legend()\n",
    "#     plt.savefig(\"./graphs/\" + name + \".png\", dpi = 300, bbox_inches='tight')\n",
    "\n",
    "def fitdata(X,y, name):\n",
    "    samples = X.shape[0]\n",
    "    dof = X.shape[1]\n",
    "    lr.fit(X, y)\n",
    "    c = lr.intercept_\n",
    "    m = lr.coef_\n",
    "    r2 = r2_score(y, lr.predict(X))\n",
    "    adjr2 = 1 - (1 - r2) * (samples - 1) / (samples - dof - 1)\n",
    "    with open('readings-mult.csv', 'w', encoding='UTF8') as f:\n",
    "        writer = csv.writer(f)\n",
    "        writer.writerow([\"Column name\", \"Intercept\", \"Coefficients\", \"R2\", \"Adj R2\"])\n",
    "        for i in range(len(X.columns)):\n",
    "            writer.writerow([X.columns[i], m[i]])\n",
    "    if len(m) == 1:\n",
    "       m=m[0]\n",
    "    return [c, m, r2, adjr2]\n",
    "\n",
    "\n",
    "df = pd.read_csv(file_name)\n",
    "cat_variables = [\"gender\", \"ethnicity\", \"major\"]\n",
    "\n",
    "\n",
    "for st in cat_variables:\n",
    "    df[st] = df[st].astype(\"category\")\n",
    "    df[st] = df[st].cat.codes\n",
    "\n",
    "\n",
    "if df.isnull().sum().sum() != 0:\n",
    "    raise Exception(\"Data contains null values. Can't proceed with linear regression\")\n",
    "\n",
    "X = df.drop(columns=[\"sleep\"])\n",
    "y = df[\"sleep\"]\n",
    "fitdata(X,y, \"all\")\n",
    "\n"
   ]
  }
 ],
 "metadata": {
  "kernelspec": {
   "display_name": "Python 3.10.7 64-bit",
   "language": "python",
   "name": "python3"
  },
  "language_info": {
   "codemirror_mode": {
    "name": "ipython",
    "version": 3
   },
   "file_extension": ".py",
   "mimetype": "text/x-python",
   "name": "python",
   "nbconvert_exporter": "python",
   "pygments_lexer": "ipython3",
   "version": "3.10.7"
  },
  "orig_nbformat": 4,
  "vscode": {
   "interpreter": {
    "hash": "aee8b7b246df8f9039afb4144a1f6fd8d2ca17a180786b69acc140d282b71a49"
   }
  }
 },
 "nbformat": 4,
 "nbformat_minor": 2
}
