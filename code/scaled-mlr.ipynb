{
 "cells": [
  {
   "cell_type": "code",
   "execution_count": null,
   "metadata": {},
   "outputs": [],
   "source": [
    "import csv\n",
    "import pandas as pd\n",
    "from sklearn.linear_model import LinearRegression\n",
    "from sklearn.metrics import r2_score\n",
    "import matplotlib.pyplot as plt\n",
    "from sklearn.preprocessing import StandardScaler\n",
    "\n",
    "# Scales the data before fitting the model\n",
    "\n",
    "df = pd.read_csv(\"full-data.csv\")\n",
    "\n",
    "cat_variables = [\"gender\", \"ethnicity\", \"major\"]\n",
    "\n",
    "for st in cat_variables:\n",
    "    df[st] = df[st].astype(\"category\")\n",
    "    df[st] = df[st].cat.codes\n",
    "\n",
    "if df.isnull().sum().sum() != 0:\n",
    "    raise Exception(\"Data contains null values. Can't proceed with linear regression\")\n",
    "X = df.drop(columns=[\"sleep\"])\n",
    "y = df[\"sleep\"]\n",
    "\n",
    "lr = LinearRegression()\n",
    "\n",
    "def fitdata(X,y):\n",
    "    samples = X.shape[0]\n",
    "    dof = X.shape[1]\n",
    "    sts= StandardScaler()\n",
    "    sts.fit(X,y)\n",
    "    scaled_X = sts.transform(X)\n",
    "    data_scaled = pd.DataFrame(scaled_X, columns=X.columns)\n",
    "    lr.fit(scaled_X, y)\n",
    "    c = lr.intercept_\n",
    "    m = lr.coef_\n",
    "    r2 = r2_score(y, lr.predict(scaled_X))\n",
    "    adjr2 = 1 - (1 - r2) * (samples - 1) / (samples - dof - 1)\n",
    "    with open('readings-coff.csv', 'w', encoding='UTF8') as f:\n",
    "        writer = csv.writer(f)\n",
    "        writer.writerow([\"Column name\", \"Coefficient\"])\n",
    "        for i in range(len(X.columns)):\n",
    "            writer.writerow([X.columns[i], m[i]])\n",
    "    return r2, adjr2\n",
    "\n",
    "fitdata(X,y)\n"
   ]
  }
 ],
 "metadata": {
  "kernelspec": {
   "display_name": "Python 3.10.7 64-bit",
   "language": "python",
   "name": "python3"
  },
  "language_info": {
   "codemirror_mode": {
    "name": "ipython",
    "version": 3
   },
   "file_extension": ".py",
   "mimetype": "text/x-python",
   "name": "python",
   "nbconvert_exporter": "python",
   "pygments_lexer": "ipython3",
   "version": "3.10.7"
  },
  "orig_nbformat": 4,
  "vscode": {
   "interpreter": {
    "hash": "aee8b7b246df8f9039afb4144a1f6fd8d2ca17a180786b69acc140d282b71a49"
   }
  }
 },
 "nbformat": 4,
 "nbformat_minor": 2
}
