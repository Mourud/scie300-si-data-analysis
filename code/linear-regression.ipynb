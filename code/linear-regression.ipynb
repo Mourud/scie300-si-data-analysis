{
 "cells": [
  {
   "cell_type": "code",
   "execution_count": null,
   "metadata": {},
   "outputs": [],
   "source": [
    "import csv\n",
    "import pandas as pd\n",
    "from sklearn.linear_model import LinearRegression\n",
    "from sklearn.metrics import r2_score\n",
    "import matplotlib.pyplot as plt\n",
    "\n",
    "file_name= \"full-data.csv\"\n",
    "\n",
    "lr = LinearRegression()\n",
    "ite = 0\n",
    "\n",
    "# Plots the scatter plot and regression line\n",
    "def plotgraph(X,y, name, pred):\n",
    "    name = name.capitalize()\n",
    "    title = \"Fig 1.3 Linear Regression for \" + name + \" vs Sleep\"\n",
    "    plt.figure()\n",
    "    plt.scatter(X,y, color='#495867',  label = \"Actual\")\n",
    "    plt.plot(X, pred, color='#FE5F55', label = \"Best fit\")\n",
    "    #plot formattig\n",
    "    plt.xlabel(name)\n",
    "    plt.style.use('seaborn')\n",
    "    plt.grid(False)\n",
    "    plt.title(title)\n",
    "    plt.ylabel('Sleep')\n",
    "    plt.legend()\n",
    "    plt.savefig(\"./graphs/\" + name + \".png\", dpi = 300, bbox_inches='tight')\n",
    "\n",
    "# Fits the data to the model and returns r2 score and calls plotgraph\n",
    "def fitdata(X,y, name):\n",
    "    samples = X.shape[0]\n",
    "    dof = X.shape[1]\n",
    "    lr.fit(X, y)\n",
    "    c = lr.intercept_\n",
    "    m = lr.coef_[0]\n",
    "    r2 = r2_score(y, lr.predict(X))\n",
    "    plotgraph(X,y, name, lr.predict(X))\n",
    "    return [c, m, r2]\n",
    "\n",
    "\n",
    "df = pd.read_csv(file_name)\n",
    "cat_variables = [\"gender\", \"ethnicity\", \"major\"]\n",
    "\n",
    "# prepare categorical variables for regression\n",
    "for st in cat_variables:\n",
    "    df[st] = df[st].astype(\"category\")\n",
    "    df[st] = df[st].cat.codes\n",
    "\n",
    "# check if dataframe contains any null values\n",
    "if df.isnull().sum().sum() != 0:\n",
    "    raise Exception(\"Data contains null values. Can't proceed with linear regression\")\n",
    "\n",
    "# seperate the independent variables (X) and the dependent variable (y)\n",
    "X = df.drop(columns=[\"sleep\"])\n",
    "y = df[\"sleep\"]\n",
    "\n",
    "# writes all the results to a csv file\n",
    "# stores all the r2 scores, gradients and intercept for each independent variable\n",
    "with open('readings.csv', 'w', encoding='UTF8') as f:\n",
    "    writer = csv.writer(f)\n",
    "    writer.writerow([\"Column name\", \"Intercept\", \"Coefficients\", \"R2\"])\n",
    "    for column in X.columns:\n",
    "        row= [column] + fitdata(X[column].values.reshape(-1,1), y, column)\n",
    "        writer.writerow(row)\n",
    "    fitdata(X,y, \"All\")\n"
   ]
  }
 ],
 "metadata": {
  "kernelspec": {
   "display_name": "Python 3.10.7 64-bit",
   "language": "python",
   "name": "python3"
  },
  "language_info": {
   "codemirror_mode": {
    "name": "ipython",
    "version": 3
   },
   "file_extension": ".py",
   "mimetype": "text/x-python",
   "name": "python",
   "nbconvert_exporter": "python",
   "pygments_lexer": "ipython3",
   "version": "3.10.7"
  },
  "orig_nbformat": 4,
  "vscode": {
   "interpreter": {
    "hash": "aee8b7b246df8f9039afb4144a1f6fd8d2ca17a180786b69acc140d282b71a49"
   }
  }
 },
 "nbformat": 4,
 "nbformat_minor": 2
}
