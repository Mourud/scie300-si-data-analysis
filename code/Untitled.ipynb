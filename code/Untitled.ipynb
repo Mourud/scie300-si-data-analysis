{
 "cells": [
  {
   "cell_type": "code",
   "execution_count": 56,
   "id": "3dc06d1c",
   "metadata": {},
   "outputs": [
    {
     "name": "stdout",
     "output_type": "stream",
     "text": [
      "(['year standing', 'credits', 'caffeine', 'study', 'work', 'social', 'eca', 'commute', 'nap', 'age', 'sex'], [0.22706991833325996, -0.4862374399761832, 0.050533517432800344, -0.12121553460375885, 0.05271604171185701, 0.2491903601085481, 0.3274834121473533, -0.8501576129869415, 0.21867758878635796, -0.25999507901070623, 0.2543752717487503])\n"
     ]
    },
    {
     "name": "stderr",
     "output_type": "stream",
     "text": [
      "/Library/Frameworks/Python.framework/Versions/3.10/lib/python3.10/site-packages/sklearn/base.py:443: UserWarning: X has feature names, but LinearRegression was fitted without feature names\n",
      "  warnings.warn(\n"
     ]
    }
   ],
   "source": [
    "import csv\n",
    "import pandas as pd\n",
    "from sklearn.linear_model import LinearRegression\n",
    "from sklearn.metrics import r2_score\n",
    "import matplotlib.pyplot as plt\n",
    "from sklearn.preprocessing import StandardScaler\n",
    "\n",
    "lr = LinearRegression()\n",
    "\n",
    "def fitdata(X,y):\n",
    "    samples = X.shape[0]\n",
    "    dof = X.shape[1]\n",
    "    sts = StandardScaler()\n",
    "    sts.fit(X,y)\n",
    "    scaled_X = sts.transform(X)\n",
    "    lr.fit(scaled_X, y)\n",
    "    c = lr.intercept_\n",
    "    m = lr.coef_\n",
    "    r2 = r2_score(y, lr.predict(X))\n",
    "    adjr2 = 1 - (1 - r2) * (samples - 1) / (samples - dof - 1)\n",
    "    # plt.figure()\n",
    "    # print(X.shape, y.shape)\n",
    "    # plt.scatter(X,y)\n",
    "    if len(m) == 1:\n",
    "       m=m[0]    \n",
    "    return X.columns.tolist(), m.tolist()\n",
    "\n",
    "\n",
    "df = pd.read_csv(\"full-data.csv\")\n",
    "cat_variables = [\"year standing\", \"caffeine\", \"work\", \"social\", \"eca\", \"nap\", \"sex\"]\n",
    "\n",
    "\n",
    "for st in cat_variables:\n",
    "    df[st] = df[st].astype(\"category\")\n",
    "    df[st] = df[st].cat.codes\n",
    "\n",
    "if df.isnull().sum().sum() != 0:\n",
    "    raise Exception(\"Data contains null values. Can't proceed with linear regression\")\n",
    "\n",
    "X = df.drop(columns=[\"sleep\"])\n",
    "y = df[\"sleep\"]\n",
    "\n",
    "\n",
    "\n",
    "\n",
    "dic = fitdata(X,y)\n",
    "print(dic)\n",
    "\n",
    "\n",
    "# with open(\"export.csv\", 'w') as csvFile:\n",
    "#     wr = csv.writer(f)\n",
    "#     wr.writeheader()\n",
    "#     for ele in dic:\n",
    "#         wr.writerow(ele)\n",
    "with open('exp.csv', 'w', encoding='UTF8') as f:\n",
    "    writer = csv.writer(f)\n",
    "    writer.writerow(dic[0])\n",
    "    writer.writerow(dic[1])\n",
    "\n",
    "\n",
    "\n",
    "\n"
   ]
  },
  {
   "cell_type": "code",
   "execution_count": null,
   "id": "afdb7881",
   "metadata": {},
   "outputs": [],
   "source": []
  }
 ],
 "metadata": {
  "kernelspec": {
   "display_name": "Python 3.10.7 64-bit",
   "language": "python",
   "name": "python3"
  },
  "language_info": {
   "codemirror_mode": {
    "name": "ipython",
    "version": 3
   },
   "file_extension": ".py",
   "mimetype": "text/x-python",
   "name": "python",
   "nbconvert_exporter": "python",
   "pygments_lexer": "ipython3",
   "version": "3.10.7"
  },
  "vscode": {
   "interpreter": {
    "hash": "aee8b7b246df8f9039afb4144a1f6fd8d2ca17a180786b69acc140d282b71a49"
   }
  }
 },
 "nbformat": 4,
 "nbformat_minor": 5
}
